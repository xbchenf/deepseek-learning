{
 "cells": [
  {
   "cell_type": "markdown",
   "source": [
    "# Function Calling 函数使用"
   ],
   "metadata": {
    "collapsed": false
   }
  },
  {
   "cell_type": "code",
   "execution_count": null,
   "outputs": [],
   "source": [
    "## （一）定义函数\n",
    "# 在使用 Function Calling 之前，开发者需要定义可供模型调用的函数。这些函数需要有清晰的定义，包括函数名、参数列表和功能描述。\n",
    "# 例如，定义一个获取城市天气的函数："
   ],
   "metadata": {
    "collapsed": false
   }
  },
  {
   "cell_type": "code",
   "execution_count": 39,
   "outputs": [],
   "source": [
    "def get_weather(city):\n",
    "    \"\"\"\n",
    "    获取指定城市的天气信息\n",
    "    :param city: 城市名称\n",
    "    :return: 包含天气状况和温度的字典\n",
    "    \"\"\"\n",
    "    # 这里是实际获取天气数据的代码，例如调用天气API\n",
    "    weather_data = {\n",
    "        \"condition\": \"sunny\",\n",
    "        \"temperature\": \"25°C\"\n",
    "    }\n",
    "    return weather_data\n"
   ],
   "metadata": {
    "collapsed": false
   }
  },
  {
   "cell_type": "code",
   "execution_count": null,
   "outputs": [],
   "source": [
    "## （二）初始化大模型客户端\n",
    "## 导入相关的依赖包，并初始化大模型客户端"
   ],
   "metadata": {
    "collapsed": false
   }
  },
  {
   "cell_type": "code",
   "execution_count": 40,
   "outputs": [],
   "source": [
    "import json\n",
    "from openai import OpenAI\n",
    "\n",
    "client = OpenAI(api_key=\"sk-47a1288c898f43ecbb41864bf8f85a8a\", base_url=\"https://api.deepseek.com\")"
   ],
   "metadata": {
    "collapsed": false
   }
  },
  {
   "cell_type": "code",
   "execution_count": null,
   "outputs": [],
   "source": [
    "## （三）定义tools工具函数"
   ],
   "metadata": {
    "collapsed": false
   }
  },
  {
   "cell_type": "code",
   "execution_count": 41,
   "outputs": [],
   "source": [
    "# 定义tools工具函数\n",
    "tools = [\n",
    "    {\n",
    "        \"type\": \"function\",\n",
    "        \"function\": {\n",
    "            \"name\": \"get_weather\",\n",
    "            \"description\": \"获取指定城市的天气信息\",\n",
    "            \"parameters\": {\n",
    "                \"type\": \"object\",\n",
    "                \"properties\": {\n",
    "                    \"city\": {\n",
    "                        \"type\": \"string\",\n",
    "                        \"description\": \"城市名称\"\n",
    "                    }\n",
    "                },\n",
    "                \"required\": [\"city\"]\n",
    "            }\n",
    "        }\n",
    "    }\n",
    "]\n"
   ],
   "metadata": {
    "collapsed": false
   }
  },
  {
   "cell_type": "code",
   "execution_count": null,
   "outputs": [],
   "source": [
    "## （四）第一次调用大模型API"
   ],
   "metadata": {
    "collapsed": false
   }
  },
  {
   "cell_type": "code",
   "execution_count": 42,
   "outputs": [
    {
     "name": "stdout",
     "output_type": "stream",
     "text": [
      "ChatCompletionMessage(content='', role='assistant', function_call=None, tool_calls=[ChatCompletionMessageToolCall(id='call_0_a8dfb1f7-7718-4584-9e9f-0ba520fa49dd', function=Function(arguments='{\"city\":\"北京\"}', name='get_weather'), type='function', index=0)])\n"
     ]
    }
   ],
   "source": [
    "# 定义消息\n",
    "messages = [\n",
    "    {\"role\": \"user\", \"content\": \"明天北京的天气如何\"}\n",
    "]\n",
    "\n",
    "\n",
    "\n",
    "# 第1次大模型调用（查看是否有匹配到工具函数）\n",
    "response = client.chat.completions.create(\n",
    "    model=\"deepseek-chat\",\n",
    "    messages=messages,\n",
    "    tools=tools,\n",
    "    tool_choice=\"auto\"\n",
    ")\n",
    "# 查看第一次调用后返回的消息（检查大模型是否有找到函数信息）\n",
    "reply = response.choices[0].message\n",
    "messages.append(reply)\n",
    "print(reply)"
   ],
   "metadata": {
    "collapsed": false
   }
  },
  {
   "cell_type": "code",
   "execution_count": null,
   "outputs": [],
   "source": [
    "## （五）调用真正的业务函数"
   ],
   "metadata": {
    "collapsed": false
   }
  },
  {
   "cell_type": "code",
   "execution_count": 43,
   "outputs": [
    {
     "name": "stdout",
     "output_type": "stream",
     "text": [
      "{'condition': 'sunny', 'temperature': '25°C'}\n"
     ]
    }
   ],
   "source": [
    "function_args = json.loads(reply.tool_calls[0].function.arguments)  # 确保转换为字典\n",
    "result = get_weather(**function_args) #真正调用，手动执行获取天气信息的方法\n",
    "print(result)"
   ],
   "metadata": {
    "collapsed": false
   }
  },
  {
   "cell_type": "code",
   "execution_count": null,
   "outputs": [],
   "source": [
    "## （六）第二次调用大模型API\n",
    "# 第2次大模型调用；将获取到的结果，丢给大模型帮忙整理后再输出给用户。"
   ],
   "metadata": {
    "collapsed": false
   }
  },
  {
   "cell_type": "code",
   "execution_count": 44,
   "outputs": [
    {
     "name": "stdout",
     "output_type": "stream",
     "text": [
      "明天北京的天气预计是晴天，气温大约在25°C左右。记得做好防晒措施哦！\n"
     ]
    }
   ],
   "source": [
    "# messages.append({\"role\": \"tool\", \"name\": function_name, \"content\": str(result)})\n",
    "tool_call_id = reply.tool_calls[0].id\n",
    "#print(\"tool_call_id\",tool_call_id)\n",
    "messages.append({\"role\": \"tool\", \"tool_call_id\": tool_call_id, \"content\": str(result)})\n",
    "second_response = client.chat.completions.create(\n",
    "    model=\"deepseek-chat\",\n",
    "    messages=messages\n",
    ")\n",
    "print(second_response.choices[0].message.content)"
   ],
   "metadata": {
    "collapsed": false
   }
  },
  {
   "cell_type": "code",
   "execution_count": null,
   "outputs": [],
   "source": [
    "## 基于function calling自助查询天气，完整代码如下："
   ],
   "metadata": {
    "collapsed": false
   }
  },
  {
   "cell_type": "code",
   "execution_count": 38,
   "outputs": [
    {
     "name": "stdout",
     "output_type": "stream",
     "text": [
      "ChatCompletionMessage(content='', role='assistant', function_call=None, tool_calls=[ChatCompletionMessageToolCall(id='call_0_89902ab0-a987-47c9-9d3b-d1a4913df82a', function=Function(arguments='{\"city\":\"北京\"}', name='get_weather'), type='function', index=0)])\n",
      "{'condition': 'sunny', 'temperature': '25°C'}\n",
      "根据最新的天气预报，明天北京的天气将会是晴天，气温大约在25°C左右。这样的天气非常适合外出活动，记得做好防晒措施哦！如果你有其他问题或需要更多信息，随时告诉我！\n"
     ]
    }
   ],
   "source": [
    "# 1、导入依赖&初始化大模型客户端\n",
    "import json\n",
    "from openai import OpenAI\n",
    "\n",
    "client = OpenAI(api_key=\"sk-47a1288c898f43ecbb41864bf8f85a8a\", base_url=\"https://api.deepseek.com\")\n",
    "\n",
    "# 2、定义消息\n",
    "messages = [\n",
    "    {\"role\": \"user\", \"content\": \"明天北京的天气如何\"}\n",
    "]\n",
    "\n",
    "# 3、定义tools工具函数\n",
    "tools = [\n",
    "    {\n",
    "        \"type\": \"function\",\n",
    "        \"function\": {\n",
    "            \"name\": \"get_weather\",\n",
    "            \"description\": \"获取指定城市的天气信息\",\n",
    "            \"parameters\": {\n",
    "                \"type\": \"object\",\n",
    "                \"properties\": {\n",
    "                    \"city\": {\n",
    "                        \"type\": \"string\",\n",
    "                        \"description\": \"城市名称\"\n",
    "                    }\n",
    "                },\n",
    "                \"required\": [\"city\"]\n",
    "            }\n",
    "        }\n",
    "    }\n",
    "]\n",
    "\n",
    "\n",
    "# 第1次大模型调用（查看是否有匹配到工具函数）\n",
    "response = client.chat.completions.create(\n",
    "    model=\"deepseek-chat\",\n",
    "    messages=messages,\n",
    "    tools=tools,\n",
    "    tool_choice=\"auto\"\n",
    ")\n",
    "# 查看第一次调用后返回的消息（检查大模型是否有找到函数信息）\n",
    "reply = response.choices[0].message\n",
    "print(reply)\n",
    "messages.append(reply)\n",
    "\n",
    "if reply.tool_calls:\n",
    "    #function_name = reply.tool_calls[0].function.name\n",
    "    #function_args = reply.tool_calls[0].function.arguments\n",
    "    function_args = json.loads(reply.tool_calls[0].function.arguments)  # 确保转换为字典\n",
    "    result = get_weather(**function_args) #真正调用，手动执行获取天气信息的方法\n",
    "    print(result)\n",
    "    # 第2次大模型调用（将获取到的结果，丢给大模型帮忙整理后再输出给用户）\n",
    "    # messages.append({\"role\": \"tool\", \"name\": function_name, \"content\": str(result)})\n",
    "    tool_call_id = reply.tool_calls[0].id\n",
    "    #print(\"tool_call_id\",tool_call_id)\n",
    "    messages.append({\"role\": \"tool\", \"tool_call_id\": tool_call_id, \"content\": str(result)})\n",
    "    second_response = client.chat.completions.create(\n",
    "        model=\"deepseek-chat\",\n",
    "        messages=messages\n",
    "    )\n",
    "    print(second_response.choices[0].message.content)\n",
    "else:\n",
    "    print(reply.message.content)\n"
   ],
   "metadata": {
    "collapsed": false
   }
  },
  {
   "cell_type": "code",
   "execution_count": null,
   "outputs": [],
   "source": [],
   "metadata": {
    "collapsed": false
   }
  }
 ],
 "metadata": {
  "kernelspec": {
   "display_name": "Python 3",
   "language": "python",
   "name": "python3"
  },
  "language_info": {
   "codemirror_mode": {
    "name": "ipython",
    "version": 2
   },
   "file_extension": ".py",
   "mimetype": "text/x-python",
   "name": "python",
   "nbconvert_exporter": "python",
   "pygments_lexer": "ipython2",
   "version": "2.7.6"
  }
 },
 "nbformat": 4,
 "nbformat_minor": 0
}
