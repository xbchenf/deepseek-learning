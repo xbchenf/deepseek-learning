{
 "cells": [
  {
   "cell_type": "code",
   "execution_count": null,
   "id": "6933f149-1829-45b9-b992-7ceb4c309974",
   "metadata": {},
   "outputs": [],
   "source": []
  },
  {
   "cell_type": "code",
   "execution_count": 4,
   "id": "330e410d-30f1-42f4-bf4d-8b7ad6e635f0",
   "metadata": {},
   "outputs": [
    {
     "name": "stdout",
     "output_type": "stream",
     "text": [
      "好的，用户让我创作一首七言绝句。七言绝句是中国古典诗歌的一种，每首四句，每句七个字，押韵，通常表达某种情感或主题。\n",
      "\n",
      "首先，我需要确定主题。七言绝句通常描绘自然景象或表达情感，所以我可能会选择一个自然的场景，比如春天的景色，这样容易引起共鸣。\n",
      "\n",
      "接下来，考虑每句的内容。第一句通常点明主题，比如描绘春天的氛围。第二句可以加入一些生动的意象，比如花儿的动态。第三句可以描述自然的活动，比如鸟儿的鸣叫。最后一句需要有一个转折或更深的含义，表达内心的感受，比如对自然的赞美或对生活的满足。\n",
      "\n",
      "押韵方面，通常绝句押平声韵，所以我要选择合适的韵脚。比如，第一句“春意盎然”押“an”韵，第二句“笑对花间”押“ian”韵，第三句“鸟语盈枝”押“hi”韵，最后一句“心随花影”押“i”韵，这样可能不太押韵，需要调整。\n",
      "\n",
      "调整一下，确保押韵。比如，最后一句可以改为“心随花间”，这样“ian”韵，和第二句一致。这样整体更和谐。\n",
      "\n",
      "然后，检查每句的字数和节奏是否符合七言绝句的要求。每句七个字，四句组成，整体流畅。\n",
      "\n",
      "最后，写一个赏析，解释创作思路，说明每句的意象和情感表达，以及押韵的安排。\n",
      "\n",
      "总结一下，我会先确定主题和意象，然后安排每句的内容，确保押韵和节奏，最后写赏析说明。\n",
      "</think>\n",
      "\n",
      "春意盎然笑对花，\n",
      "鸟语盈枝韵绕家。\n",
      "心随花影频相送，\n",
      "情伴花间夜未央。\n",
      "\n",
      "赏析：这首作品描绘了春意盎然的景象，通过“笑对花间”与“鸟语盈枝”展现了生活的美好与和谐。尾联“心随花影频相送，情伴花间夜未央”以花影和夜未央为意象，表达了对生活的深厚情感和无尽思念。\n"
     ]
    }
   ],
   "source": [
    "import requests\n",
    "def get_completion(prompt):\n",
    "    response = requests.post(\n",
    "        'http://127.0.0.1:6006',\n",
    "        json={\"prompt\": prompt}\n",
    "    )\n",
    "    return response.json()\n",
    "\n",
    "if __name__ == '__main__':\n",
    "    result = get_completion(\"请创作一首七言绝句\")\n",
    "print(result['answer'])"
   ]
  },
  {
   "cell_type": "code",
   "execution_count": 5,
   "id": "2a34d009-eb0b-4e31-a0f3-29e285e1737d",
   "metadata": {},
   "outputs": [
    {
     "name": "stdout",
     "output_type": "stream",
     "text": [
      "23.68426513671875\n"
     ]
    }
   ],
   "source": [
    "print(torch.cuda.get_device_properties(0).total_memory/1024**3)  # 显示显存容量(GB)"
   ]
  },
  {
   "cell_type": "code",
   "execution_count": null,
   "id": "d6756baa-c69e-4b43-aeea-a0d6ec944d3c",
   "metadata": {},
   "outputs": [],
   "source": []
  },
  {
   "cell_type": "code",
   "execution_count": null,
   "id": "e6e58b9a-ee00-4b26-b4c6-d0625006c9a3",
   "metadata": {},
   "outputs": [],
   "source": []
  },
  {
   "cell_type": "code",
   "execution_count": null,
   "id": "47d7b9df-c3cd-412b-bfec-8cd4078ffeb9",
   "metadata": {},
   "outputs": [],
   "source": []
  }
 ],
 "metadata": {
  "kernelspec": {
   "display_name": "Python 3 (ipykernel)",
   "language": "python",
   "name": "python3"
  },
  "language_info": {
   "codemirror_mode": {
    "name": "ipython",
    "version": 3
   },
   "file_extension": ".py",
   "mimetype": "text/x-python",
   "name": "python",
   "nbconvert_exporter": "python",
   "pygments_lexer": "ipython3",
   "version": "3.12.3"
  }
 },
 "nbformat": 4,
 "nbformat_minor": 5
}
