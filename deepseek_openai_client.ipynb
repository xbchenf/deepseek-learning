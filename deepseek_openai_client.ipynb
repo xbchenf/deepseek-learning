{
 "cells": [
  {
   "cell_type": "code",
   "execution_count": null,
   "id": "a71da701-0744-4be7-b591-01eaa2a84625",
   "metadata": {},
   "outputs": [],
   "source": [
    "# Completions API 测试"
   ]
  },
  {
   "cell_type": "code",
   "execution_count": 1,
   "id": "a0a648ba-22a2-47eb-a601-f2a63c687805",
   "metadata": {},
   "outputs": [
    {
     "name": "stdout",
     "output_type": "stream",
     "text": [
      "好的，我现在要介绍一下DeepSeek。首先，我得快速浏览一下用户提供的内容，了解DeepSeek的基本信息。DeepSeek是一家专注实现AGI的中国的人工智能公司，由深度求索人工智能研究院成立，致力于AGI研究和落地。\n",
      "\n",
      "我知道AGI指的是通用人工智能，即在智力上超越人类的人工智能系统，具有自主学习、推理、解决问题等能力。所以DeepSeek的项目目标就是实现这一点。接下来，他们的研究领域包括认知科学、计算机科学、量子计算、脑机接口和元学习，这些都是AGI研究的重要方向。\n",
      "\n",
      "然后看了一下他们的方向，包括认知建模与理解、自由意志与决策、量子计算与算力提升、脑机交互与意识提升、元学习与自适应学习。这些听起来比较广泛，涵盖了多个技术领域。技术能力方面提到了自然语言处理、计算机视觉、数值计算等，这些都是机器学习中的核心领域，特别是深度学习在这些方面的应用。\n",
      "\n",
      "医疗、教育、 withdrawal这些应用领域，尤其是医疗和教育，都是AI应用的重要方向。医疗AI可以帮助诊断疾病，提高治疗效果；教育AI可以提供个性化学习体验，提高教育效率。\n",
      "\n",
      "最后，他们的愿景是让用户与AI成为完美的协作伙伴，这可能意味着DeepSeek希望通过其技术帮助用户更高效地解决各种问题，提升生活质量和工作效率。\n",
      "\n",
      "整体来看，DeepSeek是一家致力于实现AGI的公司，涉及多个技术领域，并且有明确的应用目标，这使得他们的 work likely 在AI领域有不错的影响力。如果有时间，我想深入了解它们的研究方法、取得的成果以及面临的挑战。\n",
      "\n",
      "现在，我要检查一下是否理解正确，以及信息是否有遗漏。比如，DeepSeek的成立背景是什么？我需要确保“深度求索人工智能研究院”是其成立的背景，而非其他。此外，AGI的定义是否正确，是否有其他公司也在 chasing AGI？\n",
      "\n",
      "另外，DeepSeek的具体技术手段是什么？是基于特定模型或算法的创新？提到的自然语言处理、计算机视觉等，这些具体如何实现AGI的目标？\n",
      "\n",
      "在应用方面， withdraw的应用可能是指用户退出或其他功能，可能需要更正。此外，技术能力部分可能需要更详细地解释每个技术如何支持AGI。\n",
      "\n",
      "总结来说，我需要确保在介绍中准确传达DeepSeek的核心目标、研究领域、技术能力以及应用，同时注意使用准确的专业术语，并保持逻辑清晰。\n",
      "</think>\n",
      "\n",
      "DeepSeek 是一家专注实现通用人工智能（AGI）的中国公司，由深度求索人工智能研究院成立于2023年。其目标是通过研究和实现AGI，推动人工智能技术的变革性发展。以下是DeepSeek的详细介绍：\n",
      "\n",
      "1. **背景与目标**\n",
      "   - **成立背景**：由深度求索人工智能研究院成立，致力于AGI研究和落地。\n",
      "   - **核心目标**：实现AGI，即超越人类智力水平的人工智能系统，具备自主学习、推理和解决问题的能力。\n",
      "\n",
      "2. **研究领域**\n",
      "   - 涵盖认知科学、计算机科学、量子计算、脑机接口和元学习，涵盖多个关键领域，包括但不仅限于认知建模与理解、自由意志与决策、量子计算与算力提升、脑机交互与意识提升以及元学习与自适应学习。\n",
      "\n",
      "3. **技术能力**\n",
      "   - 应用于自然语言处理、计算机视觉、数值计算、元学习和强化学习等技术领域，推动新兴技术的发展，特别是深度学习在各领域的创新应用。\n",
      "\n",
      "4. **应用领域**\n",
      "   - **医疗**：通过AI提高诊断准确性和治疗效果，优化资源配置，提升医疗服务。\n",
      "   - **教育**：提供个性化学习方案，提升学习体验和教育效率。\n",
      "   - **其他**：DeepSeek 还探索在 withdrawals 行业的应用，如安全监控和应急响应等领域。\n",
      "\n",
      "5. **愿景**\n",
      "   - 让用户与AI成为完美的协作伙伴，提升生活质量和工作效率，实现人机完美的协作。\n",
      "\n",
      "**补充说明**：\n",
      "- **成立背景**：作为一家新兴的高科技公司，DeepSeek可能尚未获得广泛的关注，但其专注于AGI的研究，可能在量子计算、脑机接口等领域具备先发优势。\n",
      "- **AGI挑战**：AGI的实现仍面临巨大挑战，包括技术突破、伦理问题和应用安全等，DeepSeek的进展值得持续关注。\n",
      "- **技术手段**：具体的创新可能包括新型算法、硬件加速技术或跨学科的国际合作，以突破现有技术限制。\n",
      "\n",
      "DeepSeek的成立标志着中国AI生态中的又一重要参与者，其目标不仅是技术突破，更是推动社会的整体发展。\n"
     ]
    }
   ],
   "source": [
    "from openai import OpenAI\n",
    "\n",
    "client = OpenAI(base_url=\"http://localhost:8000/v1\", api_key=\"sk-xxx\")\n",
    "response = client.completions.create(\n",
    "    model=\"DeepSeek-R1-Distill-Qwen-7B\",\n",
    "    prompt=\"简单介绍一下deepseek？<think>\\n\",\n",
    "    max_tokens=1024\n",
    ")\n",
    "print(response.choices[0].text)"
   ]
  },
  {
   "cell_type": "code",
   "execution_count": null,
   "id": "83df6de4-fd55-453f-84c8-3b35757a90fd",
   "metadata": {},
   "outputs": [],
   "source": [
    "# Chat Completions API"
   ]
  },
  {
   "cell_type": "code",
   "execution_count": 2,
   "id": "bc1c496d-7182-418a-b0f1-f35c3b162b4d",
   "metadata": {},
   "outputs": [
    {
     "name": "stdout",
     "output_type": "stream",
     "text": [
      "你买了总共10个苹果。\n",
      "\n",
      "给了对方3个， yourself剩下10减去3等于7个苹果。\n",
      "\n",
      "接着，自己又吃了1个苹果，剩下7减去1等于6个苹果。\n",
      "\n",
      "所以，最终剩下6个苹果。\n",
      "</think>\n",
      "\n",
      "**解答：**\n",
      "\n",
      "1. **总苹果数**：你最初有10个苹果。\n",
      "\n",
      "2. **给对方3个**：  \n",
      "   \\( 10 - 3 = 7 \\)  \n",
      "   你剩下7个苹果。\n",
      "\n",
      "3. **自己吃了1个**：  \n",
      "   \\( 7 - 1 = 6 \\)  \n",
      "   最终剩下6个苹果。\n",
      "\n",
      "**答案：\\boxed{6}**\n"
     ]
    }
   ],
   "source": [
    "chat_response = client.chat.completions.create(\n",
    "    model=\"DeepSeek-R1-Distill-Qwen-7B\",\n",
    "    messages=[{\"role\": \"user\", \"content\": \"我买了10个苹果，给了你3个，自己吃了1个，还剩几个？\"}]\n",
    ")\n",
    "print(chat_response.choices[0].message.content)"
   ]
  },
  {
   "cell_type": "code",
   "execution_count": null,
   "id": "8f92d91f-c85f-4cb4-8dc7-93e47da38500",
   "metadata": {},
   "outputs": [],
   "source": []
  }
 ],
 "metadata": {
  "kernelspec": {
   "display_name": "Python 3 (ipykernel)",
   "language": "python",
   "name": "python3"
  },
  "language_info": {
   "codemirror_mode": {
    "name": "ipython",
    "version": 3
   },
   "file_extension": ".py",
   "mimetype": "text/x-python",
   "name": "python",
   "nbconvert_exporter": "python",
   "pygments_lexer": "ipython3",
   "version": "3.12.3"
  }
 },
 "nbformat": 4,
 "nbformat_minor": 5
}
